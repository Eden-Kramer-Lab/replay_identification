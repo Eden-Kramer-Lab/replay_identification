{
 "cells": [
  {
   "cell_type": "code",
   "execution_count": 1,
   "id": "f6364469-8782-4a0f-8a8e-e5e47ae6d092",
   "metadata": {},
   "outputs": [],
   "source": [
    "%reload_ext autoreload\n",
    "%autoreload 2"
   ]
  },
  {
   "cell_type": "code",
   "execution_count": 2,
   "id": "8b849b50-55b6-44bd-a51f-dba56d89c0a2",
   "metadata": {},
   "outputs": [],
   "source": [
    "import numpy as np\n",
    "import matplotlib.pyplot as plt\n",
    "import logging\n",
    "logging.basicConfig(level=logging.INFO)\n",
    "np.random.seed(0)"
   ]
  },
  {
   "cell_type": "code",
   "execution_count": 3,
   "id": "422b7908-b584-4b2f-8534-48e0910e5f0a",
   "metadata": {},
   "outputs": [
    {
     "name": "stderr",
     "output_type": "stream",
     "text": [
      "INFO:spectral_connectivity.transforms:Multitaper(sampling_frequency=1500, time_halfbandwidth_product=1,\n",
      "           time_window_duration=0.02, time_window_step=0.0006666666666666666,\n",
      "           detrend_type='constant', start_time=0, n_tapers=1)\n"
     ]
    }
   ],
   "source": [
    "from replay_identification.simulate import make_simulated_data\n",
    "\n",
    "(is_replay, speed, linear_distance,\n",
    " power, spikes, time, multiunit) = make_simulated_data()"
   ]
  },
  {
   "cell_type": "code",
   "execution_count": 4,
   "id": "8e1a6a09-e5ae-444c-b3ff-eafbcb318bd0",
   "metadata": {},
   "outputs": [
    {
     "name": "stderr",
     "output_type": "stream",
     "text": [
      "INFO:replay_identification.decoders:Fitting speed model...\n",
      "INFO:replay_identification.decoders:Fitting LFP power model...\n",
      "INFO:replay_identification.decoders:Fitting spiking model...\n",
      "INFO:replay_identification.decoders:Fitting multiunit model...\n"
     ]
    },
    {
     "data": {
      "application/vnd.jupyter.widget-view+json": {
       "model_id": "692e8f6cab1c477bbd8647e5a4618bb5",
       "version_major": 2,
       "version_minor": 0
      },
      "text/plain": [
       "electrodes:   0%|          | 0/2 [00:00<?, ?it/s]"
      ]
     },
     "metadata": {},
     "output_type": "display_data"
    },
    {
     "name": "stderr",
     "output_type": "stream",
     "text": [
      "INFO:replay_identification.decoders:Fitting continuous state transition...\n",
      "INFO:replay_identification.decoders:Fitting discrete state transition...\n"
     ]
    },
    {
     "data": {
      "text/plain": [
       "ReplayDetector(discrete_diagonal=None, discrete_state_transition_penalty=1e-05,\n",
       "               discrete_state_transition_type='constant',\n",
       "               infer_track_interior=True, is_track_interior=None,\n",
       "               lfp_model=<class 'sklearn.mixture._bayesian_mixture.BayesianGaussianMixture'>,\n",
       "               lfp_model_kwargs={'max_iter': 200, 'n_components': 1,\n",
       "                                 'tol': 1e-06},\n",
       "               movement_state_transition_type='random_wa...\n",
       "               multiunit_model_kwargs={'bandwidth': array([24., 24., 24., 24.,  6.,  6.])},\n",
       "               multiunit_occupancy_kwargs={'bandwidth': array([6., 6.])},\n",
       "               multiunit_occupancy_model=<class 'replay_identification.multiunit_likelihood.NumbaKDE'>,\n",
       "               place_bin_size=2.0, position_range=None, replay_speed=1,\n",
       "               speed_knots=None, speed_threshold=4.0,\n",
       "               spike_model_knot_spacing=15, spike_model_penalty=0.5)"
      ]
     },
     "execution_count": 4,
     "metadata": {},
     "output_type": "execute_result"
    }
   ],
   "source": [
    "from replay_identification import ReplayDetector\n",
    "\n",
    "detector = ReplayDetector(replay_speed=1, movement_var=4.0, place_bin_size=2.0, spike_model_knot_spacing=15,\n",
    "                   spike_model_penalty=0.5, movement_state_transition_type='random_walk',\n",
    "                   discrete_state_transition_type='constant')\n",
    "detector.fit(is_replay, speed, linear_distance, power, spikes, multiunit)"
   ]
  },
  {
   "cell_type": "code",
   "execution_count": 5,
   "id": "340e99f0-ae6f-4538-ad09-cf0d1112aa47",
   "metadata": {},
   "outputs": [
    {
     "name": "stderr",
     "output_type": "stream",
     "text": [
      "INFO:replay_identification.decoders:Predicting spikes likelihood...\n"
     ]
    },
    {
     "data": {
      "application/vnd.jupyter.widget-view+json": {
       "model_id": "c70dde68d4d34359925da99dc214444d",
       "version_major": 2,
       "version_minor": 0
      },
      "text/plain": [
       "neurons:   0%|          | 0/8 [00:00<?, ?it/s]"
      ]
     },
     "metadata": {},
     "output_type": "display_data"
    },
    {
     "data": {
      "application/vnd.jupyter.widget-view+json": {
       "model_id": "07e7b28bdf96472f9b8329513a204294",
       "version_major": 2,
       "version_minor": 0
      },
      "text/plain": [
       "neurons:   0%|          | 0/8 [00:00<?, ?it/s]"
      ]
     },
     "metadata": {},
     "output_type": "display_data"
    },
    {
     "name": "stderr",
     "output_type": "stream",
     "text": [
      "INFO:replay_identification.decoders:Finding causal non-local probability and position...\n",
      "INFO:replay_identification.decoders:Finding acausal non-local probability and position...\n"
     ]
    }
   ],
   "source": [
    "acausal_results = detector.predict(\n",
    "    speed, linear_distance, power, spikes, time=time, use_likelihoods=['spikes'],\n",
    "    use_acausal=True)"
   ]
  },
  {
   "cell_type": "code",
   "execution_count": 10,
   "id": "92b9a6cb-fec3-4a61-b174-89840108152d",
   "metadata": {},
   "outputs": [
    {
     "data": {
      "text/plain": [
       "array([[9.99969987e-01, 3.00133793e-05],\n",
       "       [1.99912678e-02, 9.80008732e-01]])"
      ]
     },
     "execution_count": 10,
     "metadata": {},
     "output_type": "execute_result"
    }
   ],
   "source": [
    "from replay_identification.discrete_state_transition import estimate_discrete_state_transition\n",
    "\n",
    "estimate_discrete_state_transition(detector, acausal_results)"
   ]
  },
  {
   "cell_type": "code",
   "execution_count": 8,
   "id": "144d8794-f736-4a34-9457-2a2884ba117a",
   "metadata": {},
   "outputs": [
    {
     "data": {
      "text/plain": [
       "array([3.0e-05, 9.8e-01])"
      ]
     },
     "execution_count": 8,
     "metadata": {},
     "output_type": "execute_result"
    }
   ],
   "source": [
    "detector.discrete_state_transition_(np.arange(1))[0]"
   ]
  },
  {
   "cell_type": "code",
   "execution_count": 9,
   "id": "db5a9389-1043-471f-921a-3d4745dde2ad",
   "metadata": {},
   "outputs": [
    {
     "data": {
      "text/plain": [
       "functools.partial(<function _constant_probability at 0x7ff7eb7b64c0>, diagonal=array([3.0e-05, 9.8e-01]))"
      ]
     },
     "execution_count": 9,
     "metadata": {},
     "output_type": "execute_result"
    }
   ],
   "source": [
    "detector.discrete_state_transition_"
   ]
  },
  {
   "cell_type": "code",
   "execution_count": 15,
   "id": "90531405-dd3a-4b07-b95a-9bb4e1e0ea25",
   "metadata": {},
   "outputs": [
    {
     "name": "stderr",
     "output_type": "stream",
     "text": [
      "INFO:replay_identification.decoders:Fitting speed model...\n",
      "INFO:replay_identification.decoders:Fitting LFP power model...\n",
      "INFO:replay_identification.decoders:Fitting spiking model...\n",
      "INFO:replay_identification.decoders:Fitting continuous state transition...\n",
      "INFO:replay_identification.decoders:Fitting discrete state transition...\n",
      "INFO:replay_identification.decoders:Predicting spikes likelihood...\n"
     ]
    },
    {
     "data": {
      "application/vnd.jupyter.widget-view+json": {
       "model_id": "29095731955047719b5537d92d033954",
       "version_major": 2,
       "version_minor": 0
      },
      "text/plain": [
       "neurons:   0%|          | 0/8 [00:00<?, ?it/s]"
      ]
     },
     "metadata": {},
     "output_type": "display_data"
    },
    {
     "data": {
      "application/vnd.jupyter.widget-view+json": {
       "model_id": "90d1b1d3a0b447e184f024e857a5ce91",
       "version_major": 2,
       "version_minor": 0
      },
      "text/plain": [
       "neurons:   0%|          | 0/8 [00:00<?, ?it/s]"
      ]
     },
     "metadata": {},
     "output_type": "display_data"
    },
    {
     "name": "stderr",
     "output_type": "stream",
     "text": [
      "INFO:replay_identification.decoders:Finding causal non-local probability and position...\n",
      "INFO:replay_identification.decoders:Finding acausal non-local probability and position...\n",
      "INFO:replay_identification.decoders:iteration 0, likelihood: -0.7073872813347013\n",
      "INFO:replay_identification.decoders:Predicting spikes likelihood...\n"
     ]
    },
    {
     "data": {
      "application/vnd.jupyter.widget-view+json": {
       "model_id": "e8e6b9fdd67649c09f596a228049ebb3",
       "version_major": 2,
       "version_minor": 0
      },
      "text/plain": [
       "neurons:   0%|          | 0/8 [00:00<?, ?it/s]"
      ]
     },
     "metadata": {},
     "output_type": "display_data"
    },
    {
     "data": {
      "application/vnd.jupyter.widget-view+json": {
       "model_id": "8e6a17d02f4049e2b2ab911fb6912a72",
       "version_major": 2,
       "version_minor": 0
      },
      "text/plain": [
       "neurons:   0%|          | 0/8 [00:00<?, ?it/s]"
      ]
     },
     "metadata": {},
     "output_type": "display_data"
    },
    {
     "name": "stderr",
     "output_type": "stream",
     "text": [
      "INFO:replay_identification.decoders:Finding causal non-local probability and position...\n",
      "INFO:replay_identification.decoders:Finding acausal non-local probability and position...\n",
      "INFO:replay_identification.decoders:iteration 1, likelihood: -0.7073903858947136, change: -3.104560012290314e-06\n"
     ]
    }
   ],
   "source": [
    "fit_args = dict(\n",
    "    is_ripple=is_replay,\n",
    "    speed=speed,\n",
    "    position=linear_distance,\n",
    "    lfp_power=power,\n",
    "    spikes=spikes,\n",
    ")\n",
    "predict_args = dict(\n",
    "    speed=speed,\n",
    "    position=linear_distance,\n",
    "    lfp_power=power,\n",
    "    spikes=spikes,\n",
    "    time=time,\n",
    "    use_likelihoods=['spikes'],\n",
    "    use_acausal=True\n",
    ")\n",
    "results, data_log_likelihoods = detector.estimate_parameters(\n",
    "    fit_args, predict_args, estimate_likelihood=False)"
   ]
  },
  {
   "cell_type": "code",
   "execution_count": null,
   "id": "75cc113f-b71f-4dac-ba60-a4d907b9f212",
   "metadata": {},
   "outputs": [],
   "source": []
  }
 ],
 "metadata": {
  "kernelspec": {
   "display_name": "Python [conda env:replay_identification] *",
   "language": "python",
   "name": "conda-env-replay_identification-py"
  },
  "language_info": {
   "codemirror_mode": {
    "name": "ipython",
    "version": 3
   },
   "file_extension": ".py",
   "mimetype": "text/x-python",
   "name": "python",
   "nbconvert_exporter": "python",
   "pygments_lexer": "ipython3",
   "version": "3.8.12"
  }
 },
 "nbformat": 4,
 "nbformat_minor": 5
}
